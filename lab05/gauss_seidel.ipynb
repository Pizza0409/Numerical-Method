{
 "cells": [
  {
   "cell_type": "code",
   "execution_count": 2,
   "metadata": {},
   "outputs": [],
   "source": [
    "import numpy as np\n",
    "from copy import deepcopy"
   ]
  },
  {
   "cell_type": "markdown",
   "metadata": {},
   "source": [
    "##### Write the function for check the matrix is diagonally dominant"
   ]
  },
  {
   "cell_type": "code",
   "execution_count": 3,
   "metadata": {},
   "outputs": [],
   "source": [
    "def check_diagonally(a):\n",
    "    # Find diagonal coefficients\n",
    "    # diag = ...\n",
    "    diag = np.diag(np.abs(a))                         #|aii|\n",
    "    \n",
    "    # Find row sum without diagonal coefficients\n",
    "    # off_diag = ...\n",
    "    off_diag = np.sum(np.abs(a), axis = 1) - diag     #axis = 1 -> row, sum of row of each rows\n",
    "\n",
    "    if np.all(diag > off_diag):\n",
    "        print(\"matrix is diagonally dominant\")\n",
    "    else:\n",
    "        print(\"NOT diagonally dominant\")"
   ]
  },
  {
   "cell_type": "markdown",
   "metadata": {},
   "source": [
    "##### Wirte the funtion for Gauss-Seidel method"
   ]
  },
  {
   "cell_type": "code",
   "execution_count": 4,
   "metadata": {},
   "outputs": [],
   "source": [
    "def Gauss_Seidel(a, x, y, it, epsilon):\n",
    "    converged = False\n",
    "    x_old = np.zeros(a.shape[0])\n",
    "    print(\"Iteration results\") \n",
    "    print(\" k,    x1,      x2,       x3 \")\n",
    "    # You should to do...\n",
    "    # Use the for loop to complete the iterative process\n",
    "        # check if it is smaller than threshold \n",
    "        # assign the latest x value to the old value\n",
    "    for i in range(it):                                                 #the most iteration number\n",
    "        for j in range(a.shape[0]):                                     #how many rows\n",
    "            sum = 0\n",
    "            for k in range(a.shape[1]):                                 #how many cols\n",
    "                if k != j:                                              #avoid diagonal elements\n",
    "                    sum += a[j][k] * x[k]                               #Gauss–Seidel method\n",
    "            x[j] = (y[j] - sum) / a[j][j]\n",
    "        print(f\" {i + 1}, {x[0]:.4f}, {x[1]:.4f}, {x[2]:.4f}\")     \n",
    "        if np.linalg.norm(x - x_old) < epsilon:                         #check if it is convergent\n",
    "            converged = True\n",
    "            break\n",
    "        x_old = x.copy()                                                # assign the latest x value to the old value\n",
    "              \n",
    "    if converged:\n",
    "        print('Converged')\n",
    "    else:\n",
    "        print(\"Didn't converged\" )\n",
    "        \n",
    "\n",
    "    return x"
   ]
  },
  {
   "cell_type": "markdown",
   "metadata": {},
   "source": [
    "# Sample 1"
   ]
  },
  {
   "cell_type": "code",
   "execution_count": 6,
   "metadata": {},
   "outputs": [
    {
     "name": "stdout",
     "output_type": "stream",
     "text": [
      "matrix is diagonally dominant\n"
     ]
    }
   ],
   "source": [
    "a = np.array([[5, -1, -3], [2, 9, 3], [2, 4, 8]])\n",
    "\n",
    "check_diagonally(a)"
   ]
  },
  {
   "cell_type": "code",
   "execution_count": 8,
   "metadata": {},
   "outputs": [
    {
     "name": "stdout",
     "output_type": "stream",
     "text": [
      "Iteration results\n",
      " k,    x1,      x2,       x3 \n",
      " 1, 2.8000, -0.0667, -1.6667\n",
      " 2, 1.7867, 0.7141, -1.8037\n",
      " 3, 1.8606, 0.7433, -1.8368\n",
      " 4, 1.8466, 0.7575, -1.8404\n",
      " 5, 1.8473, 0.7585, -1.8411\n",
      " 6, 1.8471, 0.7588, -1.8412\n",
      " 7, 1.8471, 0.7588, -1.8412\n",
      "Converged\n",
      "\n",
      "Check\n",
      "my solve: [ 1.84706227  0.75881701 -1.84117407]\n",
      "np solve: [ 1.84705882  0.75882353 -1.84117647]\n",
      "Variable           Type        Data/Info\n",
      "----------------------------------------\n",
      "Gauss_Seidel       function    <function Gauss_Seidel at 0x000001E88F433280>\n",
      "a                  ndarray     3x3: 9 elems, type `int32`, 36 bytes\n",
      "check_diagonally   function    <function check_diagonally at 0x000001E88DED3820>\n",
      "deepcopy           function    <function deepcopy at 0x000001E889C41DC0>\n",
      "np                 module      <module 'numpy' from 'C:\\<...>ges\\\\numpy\\\\__init__.py'>\n",
      "x                  ndarray     3: 3 elems, type `float64`, 24 bytes\n",
      "y                  ndarray     3: 3 elems, type `int32`, 12 bytes\n"
     ]
    }
   ],
   "source": [
    "a = np.array([[5, -1, -3], [2, 9, 3], [2, 4, 8]])\n",
    "x = np.zeros(a.shape[0])\n",
    "y = np.array([14, 5, -8])\n",
    "\n",
    "x = Gauss_Seidel(a, x, y, it=50, epsilon=0.0001)\n",
    "print('')\n",
    "print('Check')\n",
    "print('my solve:',x)\n",
    "x = np.linalg.solve(a, y)\n",
    "print('np solve:',x)"
   ]
  },
  {
   "cell_type": "markdown",
   "metadata": {},
   "source": [
    "# Sample 2"
   ]
  },
  {
   "cell_type": "code",
   "execution_count": 6,
   "metadata": {},
   "outputs": [
    {
     "name": "stdout",
     "output_type": "stream",
     "text": [
      "matrix is diagonally dominant\n"
     ]
    }
   ],
   "source": [
    "a = np.array([[12, 3, -5, 2], [1, 7, 3, 1], [3, 7, 13, -2], [-2, 2, 5, 20]])\n",
    "\n",
    "check_diagonally(a)"
   ]
  },
  {
   "cell_type": "code",
   "execution_count": 7,
   "metadata": {},
   "outputs": [
    {
     "name": "stdout",
     "output_type": "stream",
     "text": [
      "Iteration results\n",
      " k,    x1,      x2,       x3 \n",
      " 1, 0.8333, 0.7381, -0.3590\n",
      " 2, 0.4660, 0.9159, -0.3393\n",
      " 3, 0.4397, 0.9198, -0.3444\n",
      " 4, 0.4369, 0.9226, -0.3456\n",
      " 5, 0.4357, 0.9233, -0.3457\n",
      " 6, 0.4355, 0.9234, -0.3458\n",
      " 7, 0.4355, 0.9235, -0.3458\n",
      "Converged\n",
      "\n",
      "Check\n",
      "my solve: [ 0.43545427  0.92346426 -0.34579299  0.13764725]\n",
      "np solve: [ 0.43544344  0.92347075 -0.34579489  0.13764599]\n"
     ]
    }
   ],
   "source": [
    "a = np.array([[12, 3, -5, 2], [1, 7, 3, 1], [3, 7, 13, -2], [-2, 2, 5, 20]])\n",
    "x = np.zeros(a.shape[0])\n",
    "y = np.array([10, 6, 3, 2])\n",
    "\n",
    "x = Gauss_Seidel(a, x, y, it=50, epsilon=0.0001)\n",
    "print('')\n",
    "print('Check')\n",
    "print('my solve:',x)\n",
    "x = np.linalg.solve(a, y)\n",
    "print('np solve:',x)"
   ]
  },
  {
   "cell_type": "code",
   "execution_count": null,
   "metadata": {},
   "outputs": [],
   "source": []
  },
  {
   "cell_type": "code",
   "execution_count": null,
   "metadata": {},
   "outputs": [],
   "source": []
  }
 ],
 "metadata": {
  "kernelspec": {
   "display_name": "Python 3 (ipykernel)",
   "language": "python",
   "name": "python3"
  },
  "language_info": {
   "codemirror_mode": {
    "name": "ipython",
    "version": 3
   },
   "file_extension": ".py",
   "mimetype": "text/x-python",
   "name": "python",
   "nbconvert_exporter": "python",
   "pygments_lexer": "ipython3",
   "version": "3.9.13"
  }
 },
 "nbformat": 4,
 "nbformat_minor": 4
}
