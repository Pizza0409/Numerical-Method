{
 "cells": [
  {
   "cell_type": "code",
   "execution_count": 72,
   "id": "IyRa87YZWyKm",
   "metadata": {
    "executionInfo": {
     "elapsed": 4,
     "status": "ok",
     "timestamp": 1678501932164,
     "user": {
      "displayName": "吳蕙瑜 HUI YU WU N96114467",
      "userId": "11903892810699653447"
     },
     "user_tz": -480
    },
    "id": "IyRa87YZWyKm"
   },
   "outputs": [],
   "source": [
    "# define parameter for plt\n",
    "linewidths = [0.5, 1.0, 2.0, 4.0]\n",
    "linestyles = ['-', '--', '-.', ':']\n",
    "markers = ['+', 'o', '*', 's', '.', '1', '2', '3', '4']\n",
    "markersizecolors = [(4, \"white\"), (8, \"red\"), (12, \"yellow\"), (16, \"lightgreen\")] #tuple in list"
   ]
  },
  {
   "cell_type": "code",
   "execution_count": 73,
   "id": "b8RWvUtqWyKq",
   "metadata": {
    "colab": {
     "base_uri": "https://localhost:8080/",
     "height": 227
    },
    "executionInfo": {
     "elapsed": 1510,
     "status": "ok",
     "timestamp": 1678501934141,
     "user": {
      "displayName": "吳蕙瑜 HUI YU WU N96114467",
      "userId": "11903892810699653447"
     },
     "user_tz": -480
    },
    "id": "b8RWvUtqWyKq",
    "outputId": "03629335-036f-4fc6-e277-b639575ae0c2"
   },
   "outputs": [
    {
     "data": {
      "image/png": "[encoded data removed]",
      "text/plain": [
       "<Figure size 1600x300 with 4 Axes>"
      ]
     },
     "metadata": {},
     "output_type": "display_data"
    }
   ],
   "source": [
    "import numpy as np\n",
    "import matplotlib.pyplot as plt\n",
    "x = np.linspace(-5, 5, 5)\n",
    "y = np.ones_like(x)                                        # return an array of 1 with the same shape and type as x. \n",
    "def axes_settings(fig, ax, title, ymax):\n",
    "    ax.set_xticks([])                                      # No xticks\n",
    "    ax.set_yticks([])                                      # No yticks\n",
    "    ax.set_ylim(0, ymax+1)\n",
    "    ax.set_title(title)\n",
    "\n",
    "fig, axes = plt.subplots(1, 4, figsize=(16,3))             # create a figure with 1 row X 4 columns subfig \n",
    "# Line width\n",
    "for n, linewidth in enumerate(linewidths):                 # enumerate returns index and value\n",
    "    axes[0].plot(x, y + n, color=\"blue\", linewidth=linewidth)  #線粗為題目定義的  \n",
    "axes_settings(fig, axes[0], \"linewidth\", len(linewidths))\n",
    "\n",
    "# Line style\n",
    "for n, linestyle in enumerate(linestyles):\n",
    "    axes[1].plot(x, y + n, color =  \"blue\", linewidth = 3, linestyle = linestyles[n])     #線粗自訂，線的形式則為題目規定的\n",
    "axes_settings(fig, axes[1], \"linestyle\", len(linestyles))    \n",
    "\n",
    "\n",
    "# Marker\n",
    "for n, marker in enumerate(markers):\n",
    "    axes[2].plot(x, y + n, color =  \"blue\", linewidth = 0, markersize = 4, marker = markers[n])     #不需要線所以linewidth = 0，makersize自訂，maker則為題目定義\n",
    "axes_settings(fig, axes[2], \"makers\", len(markers))\n",
    "\n",
    "# marker size/color\n",
    "for n, (size, color) in enumerate(markersizecolors):\n",
    "    axes[3].plot(x, y + n, color =  \"blue\", marker = 'o', linewidth = 0, markersize = size, markerfacecolor = color)    #不需要線所以linewidth = 0，maker範例裡用 o，makersize與makerfacecolor則為題目定義\n",
    "axes_settings(fig, axes[3], \"markersizecolors\", len(markersizecolors))    \n",
    "    "
   ]
  },
  {
   "cell_type": "code",
   "execution_count": null,
   "id": "2L_rLBAkgr5d",
   "metadata": {
    "id": "2L_rLBAkgr5d"
   },
   "outputs": [],
   "source": []
  },
  {
   "cell_type": "code",
   "execution_count": null,
   "id": "746df9b0",
   "metadata": {},
   "outputs": [],
   "source": []
  }
 ],
 "metadata": {
  "colab": {
   "provenance": []
  },
  "kernelspec": {
   "display_name": "Python 3 (ipykernel)",
   "language": "python",
   "name": "python3"
  },
  "language_info": {
   "codemirror_mode": {
    "name": "ipython",
    "version": 3
   },
   "file_extension": ".py",
   "mimetype": "text/x-python",
   "name": "python",
   "nbconvert_exporter": "python",
   "pygments_lexer": "ipython3",
   "version": "3.9.13"
  }
 },
 "nbformat": 4,
 "nbformat_minor": 5
}
