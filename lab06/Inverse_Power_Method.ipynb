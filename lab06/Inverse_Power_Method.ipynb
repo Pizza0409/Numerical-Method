{
 "cells": [
  {
   "cell_type": "code",
   "execution_count": 10,
   "id": "e59bf6cb-75af-4343-9ca8-652236b082a8",
   "metadata": {},
   "outputs": [],
   "source": [
    "import numpy as np\n",
    "from numpy.linalg import eig\n",
    "from numpy.linalg import inv"
   ]
  },
  {
   "cell_type": "code",
   "execution_count": 11,
   "id": "e0f42544-5532-4e20-8cbd-eaf2850be381",
   "metadata": {},
   "outputs": [],
   "source": [
    "def inverse_normalize(x):\n",
    "    # factor fac is the maximum absoulute value of x\n",
    "    fac = abs(x).max()\n",
    "    if fac == abs(x.min()):          #check if x最大的絕對值是否在x中是負數\n",
    "        fac = fac * -1\n",
    "    x_n = x / fac\n",
    "    \n",
    "    return fac, x_n"
   ]
  },
  {
   "cell_type": "code",
   "execution_count": 12,
   "id": "ec9fbae0-be43-4fbf-906e-e7407ab3f946",
   "metadata": {},
   "outputs": [],
   "source": [
    "def inverse_power_method(a, x):\n",
    "    # The subtraction of the lambda_0 and the lambda_1 must be less than 1e-30\n",
    "    lambda_0 = 1\n",
    "    a_inv = inv(a)                             # define a_inv is the inverse of the matrix a\n",
    "    iter = 1000                                # iteration time\n",
    "    y = 0\n",
    "    \n",
    "    for i in range(iter):\n",
    "        x = np.dot(a_inv, x)                   #A^-1 dot x0\n",
    "        lambda_1, x = inverse_normalize(x)\n",
    "        if(abs(lambda_0 - lambda_1) < 10 ** (-30)):\n",
    "            break\n",
    "    lambda_1 = 1 / lambda_1\n",
    "    \n",
    "    return lambda_1, x"
   ]
  },
  {
   "cell_type": "markdown",
   "id": "41efa558",
   "metadata": {},
   "source": [
    "### Sample 1"
   ]
  },
  {
   "cell_type": "code",
   "execution_count": 13,
   "id": "74044830-bb00-4ce3-9343-07fdf18307a8",
   "metadata": {
    "scrolled": true,
    "tags": []
   },
   "outputs": [
    {
     "name": "stdout",
     "output_type": "stream",
     "text": [
      "The Minimum Eigenvalue: -1.0\n",
      "Eigenvector: [ 1.  -0.5]\n"
     ]
    }
   ],
   "source": [
    "x = np.array([1, 1])\n",
    "a = np.array([[0, 2],[2, 3]])\n",
    "lambda_1, x = inverse_power_method(a, x)\n",
    "print(\"The Minimum Eigenvalue:\", lambda_1)\n",
    "print(\"Eigenvector:\", x)"
   ]
  },
  {
   "cell_type": "code",
   "execution_count": 14,
   "id": "167017f5-009b-4f54-94e2-c495069017a3",
   "metadata": {},
   "outputs": [
    {
     "name": "stdout",
     "output_type": "stream",
     "text": [
      "E-value: [-1.  4.]\n",
      "E-vector:\n",
      " [[-0.89442719 -0.4472136 ]\n",
      " [ 0.4472136  -0.89442719]]\n"
     ]
    }
   ],
   "source": [
    "# compare with numpy\n",
    "\n",
    "a = np.array([[0, 2],[2, 3]])\n",
    "\n",
    "value, vector = eig(a)\n",
    "print(\"E-value:\", value)\n",
    "print(\"E-vector:\\n\", vector)"
   ]
  },
  {
   "cell_type": "markdown",
   "id": "c5a13cd5",
   "metadata": {},
   "source": [
    "### Sample 2"
   ]
  },
  {
   "cell_type": "code",
   "execution_count": 15,
   "id": "d78df4ab-08ce-4764-b259-f41a69609d50",
   "metadata": {},
   "outputs": [
    {
     "name": "stdout",
     "output_type": "stream",
     "text": [
      "The Minimum Eigenvalue: -0.3502617411332921\n",
      "Eigenvector: [ 1.         -0.16957999 -0.42076089]\n"
     ]
    }
   ],
   "source": [
    "x = np.array([1, 1, 1])\n",
    "a = np.array([[1, 3, 2],[2, 4, 3],[2, 1, 4]])\n",
    "lambda_1, x = inverse_power_method(a, x)\n",
    "print(\"The Minimum Eigenvalue:\", lambda_1)\n",
    "print(\"Eigenvector:\", x)"
   ]
  },
  {
   "cell_type": "code",
   "execution_count": 8,
   "id": "45aa7cd1-33c2-4863-9ea1-75dad9aad7b3",
   "metadata": {},
   "outputs": [
    {
     "name": "stdout",
     "output_type": "stream",
     "text": [
      "E-value: [-0.79583152  8.79583152  3.        ]\n",
      "E-vector:\n",
      " [[-0.94004183  0.53600915 -0.63968818]\n",
      " [ 0.24116525  0.59694815 -0.49206783]\n",
      " [ 0.24116525  0.59694815  0.5904814 ]]\n"
     ]
    }
   ],
   "source": [
    "# compare with numpy\n",
    "\n",
    "a = np.array([[1, 5, 2],[2, 4, 3],[2, 1, 6]])\n",
    "\n",
    "value, vector = eig(a)\n",
    "print(\"E-value:\", value)\n",
    "print(\"E-vector:\\n\", vector)"
   ]
  },
  {
   "cell_type": "code",
   "execution_count": null,
   "id": "51e7d725-d865-455f-87b3-90eb33d0e129",
   "metadata": {},
   "outputs": [],
   "source": []
  },
  {
   "cell_type": "code",
   "execution_count": null,
   "id": "563a7f8e",
   "metadata": {},
   "outputs": [],
   "source": []
  }
 ],
 "metadata": {
  "kernelspec": {
   "display_name": "Python 3 (ipykernel)",
   "language": "python",
   "name": "python3"
  },
  "language_info": {
   "codemirror_mode": {
    "name": "ipython",
    "version": 3
   },
   "file_extension": ".py",
   "mimetype": "text/x-python",
   "name": "python",
   "nbconvert_exporter": "python",
   "pygments_lexer": "ipython3",
   "version": "3.9.13"
  }
 },
 "nbformat": 4,
 "nbformat_minor": 5
}
