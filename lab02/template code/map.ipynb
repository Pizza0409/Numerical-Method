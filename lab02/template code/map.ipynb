{
 "cells": [
  {
   "cell_type": "code",
   "execution_count": 65,
   "id": "99ff6123",
   "metadata": {},
   "outputs": [],
   "source": [
    "class Map:\n",
    "    def __init__(self, n, p):\n",
    "        \"\"\"\n",
    "        initialize by n\n",
    "        \"\"\"\n",
    "        self.n = n\n",
    "        self.p = p\n",
    "        \n",
    "        if p == 1:\n",
    "            \"\"\"\n",
    "            construct square inside the Map\n",
    "            \"\"\"\n",
    "            self.matrix = [['*'] * n for i in range(n)]      #先全部放*\n",
    "            for i in range(1, n-1):                          #第一跟最後都是***填滿，但中間是*ooo*之類的，所以range start from 1\n",
    "                self.matrix[i][1:-1] = ['o'] * (n - 2)\n",
    "        else:\n",
    "            self.matrix = [[' '] * n for j in range(n)]\n",
    "                \n",
    "    def display(self):\n",
    "        \"\"\"\n",
    "        display the map\n",
    "        \"\"\"\n",
    "        for i in self.matrix:\n",
    "            print(i)\n",
    "        \n"
   ]
  },
  {
   "cell_type": "code",
   "execution_count": 68,
   "id": "c6222f7c",
   "metadata": {},
   "outputs": [
    {
     "name": "stdout",
     "output_type": "stream",
     "text": [
      "['*', '*', '*', '*', '*']\n",
      "['*', 'o', 'o', 'o', '*']\n",
      "['*', 'o', 'o', 'o', '*']\n",
      "['*', 'o', 'o', 'o', '*']\n",
      "['*', '*', '*', '*', '*']\n"
     ]
    }
   ],
   "source": [
    "my_map = Map(5, 1)\n",
    "my_map.display()"
   ]
  },
  {
   "cell_type": "code",
   "execution_count": null,
   "id": "bdd17406",
   "metadata": {},
   "outputs": [],
   "source": []
  },
  {
   "cell_type": "code",
   "execution_count": null,
   "id": "8b71d5f3",
   "metadata": {},
   "outputs": [],
   "source": []
  }
 ],
 "metadata": {
  "kernelspec": {
   "display_name": "Python 3 (ipykernel)",
   "language": "python",
   "name": "python3"
  },
  "language_info": {
   "codemirror_mode": {
    "name": "ipython",
    "version": 3
   },
   "file_extension": ".py",
   "mimetype": "text/x-python",
   "name": "python",
   "nbconvert_exporter": "python",
   "pygments_lexer": "ipython3",
   "version": "3.9.13"
  }
 },
 "nbformat": 4,
 "nbformat_minor": 5
}
