{
 "cells": [
  {
   "cell_type": "code",
   "execution_count": 1,
   "id": "f1077747-c31c-4b9a-8b6a-0da7379920e0",
   "metadata": {},
   "outputs": [],
   "source": [
    "import numpy as np"
   ]
  },
  {
   "cell_type": "code",
   "execution_count": 2,
   "id": "9cb7e63b-d587-4236-ad4a-29dc5da50557",
   "metadata": {},
   "outputs": [],
   "source": [
    "def normalize(x):\n",
    "# the input x is an array\n",
    "    fac = abs(x).max() #factor fac is the maximum absoulute value of x\n",
    "    x_n = x/x.max()\n",
    "    return fac,x_n"
   ]
  },
  {
   "cell_type": "code",
   "execution_count": 5,
   "id": "9f56a063-a5bd-4943-9b37-a7813b7d6fd9",
   "metadata": {},
   "outputs": [
    {
     "name": "stdout",
     "output_type": "stream",
     "text": [
      "Eigenvalue:  3.999996821087633\n",
      "Eigenvector:  [0.5000004 1.       ]\n"
     ]
    }
   ],
   "source": [
    "#system matrix A\n",
    "A = np.array([[0,2],[2,3]])\n",
    "#initial guess\n",
    "x = np.array([1,1])\n",
    "\n",
    "for i in range(10):\n",
    "    x = np.dot(A,x)\n",
    "    lambda_k, x = normalize(x)\n",
    "\n",
    "print(\"Eigenvalue: \", lambda_k)\n",
    "print(\"Eigenvector: \", x)"
   ]
  },
  {
   "cell_type": "code",
   "execution_count": null,
   "id": "a2fc1407-bc4a-4713-9afc-87c9ab200116",
   "metadata": {},
   "outputs": [],
   "source": []
  }
 ],
 "metadata": {
  "kernelspec": {
   "display_name": "Python 3 (ipykernel)",
   "language": "python",
   "name": "python3"
  },
  "language_info": {
   "codemirror_mode": {
    "name": "ipython",
    "version": 3
   },
   "file_extension": ".py",
   "mimetype": "text/x-python",
   "name": "python",
   "nbconvert_exporter": "python",
   "pygments_lexer": "ipython3",
   "version": "3.9.13"
  }
 },
 "nbformat": 4,
 "nbformat_minor": 5
}
