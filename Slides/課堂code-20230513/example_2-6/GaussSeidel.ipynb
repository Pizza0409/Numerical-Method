{
 "cells": [
  {
   "cell_type": "code",
   "execution_count": 2,
   "id": "acd55c6f-4d50-43d6-a236-2fdb6212a4f7",
   "metadata": {},
   "outputs": [],
   "source": [
    "import numpy as np"
   ]
  },
  {
   "cell_type": "code",
   "execution_count": 3,
   "id": "5a293d2a-63fa-4d04-8c63-2e3933ffa7a7",
   "metadata": {},
   "outputs": [],
   "source": [
    "import math"
   ]
  },
  {
   "cell_type": "code",
   "execution_count": 6,
   "id": "898e8ed1-1155-41d7-9a32-f63f0d0c5d67",
   "metadata": {},
   "outputs": [],
   "source": [
    "A=[[8,3,-3],[-2,-8,5],[3,5,10]]"
   ]
  },
  {
   "cell_type": "code",
   "execution_count": 7,
   "id": "59bf356e-8b44-4745-bc5c-198dae88e5c9",
   "metadata": {},
   "outputs": [
    {
     "data": {
      "text/plain": [
       "[[8, 3, -3], [-2, -8, 5], [3, 5, 10]]"
      ]
     },
     "execution_count": 7,
     "metadata": {},
     "output_type": "execute_result"
    }
   ],
   "source": [
    "A"
   ]
  },
  {
   "cell_type": "code",
   "execution_count": 9,
   "id": "5c911f08-c6c4-40f5-87b8-767a7daa666a",
   "metadata": {},
   "outputs": [],
   "source": [
    "#find the diagonal coefficients\n",
    "diag=np.diag(np.abs(A))"
   ]
  },
  {
   "cell_type": "code",
   "execution_count": 10,
   "id": "0097587d-4160-4172-a677-6b0f6f0d3031",
   "metadata": {},
   "outputs": [
    {
     "data": {
      "text/plain": [
       "array([ 8,  8, 10])"
      ]
     },
     "execution_count": 10,
     "metadata": {},
     "output_type": "execute_result"
    }
   ],
   "source": [
    "diag"
   ]
  },
  {
   "cell_type": "code",
   "execution_count": 12,
   "id": "5edb5667-404c-471e-bf58-642b53f31db3",
   "metadata": {},
   "outputs": [],
   "source": [
    "#find row sum without diagoanl terms\n",
    "off_diag=np.sum(np.abs(A),axis=1)-diag"
   ]
  },
  {
   "cell_type": "code",
   "execution_count": 14,
   "id": "9480d041-f7e1-468b-b748-295f12f09e7f",
   "metadata": {},
   "outputs": [
    {
     "name": "stdout",
     "output_type": "stream",
     "text": [
      "matrix is diagonally dominant\n"
     ]
    }
   ],
   "source": [
    "if np.all(diag>off_diag):\n",
    "    print(\"matrix is diagonally dominant\")\n",
    "else:\n",
    "    print(\"matrix is NOT diagonally dominat\")"
   ]
  },
  {
   "cell_type": "code",
   "execution_count": 24,
   "id": "3323e9df-50a6-4257-8145-264b9ca62e51",
   "metadata": {},
   "outputs": [],
   "source": [
    "#given initial guesses\n",
    "x1=0\n",
    "x2=0\n",
    "x3=0\n",
    "epsilon=0.001\n",
    "converged=False"
   ]
  },
  {
   "cell_type": "code",
   "execution_count": 25,
   "id": "581a2a1b-7980-45ce-a3e0-f5c421e8018c",
   "metadata": {},
   "outputs": [],
   "source": [
    "x_old=np.array([x1,x2,x3])"
   ]
  },
  {
   "cell_type": "code",
   "execution_count": 26,
   "id": "4141390f-ced2-48b2-884e-853361337e18",
   "metadata": {},
   "outputs": [
    {
     "name": "stdout",
     "output_type": "stream",
     "text": [
      "Iteration results:\n",
      " k, x1, x2, x3\n",
      "1, 1.7500, -1.0625, 1.5875\n",
      "2, 2.7437, -0.3188, 2.9275\n",
      "3, 2.9673, 0.4629, 3.8433\n",
      "4, 3.0177, 1.0226, 4.4332\n",
      "5, 3.0290, 1.3885, 4.8059\n",
      "6, 3.0315, 1.6208, 5.0397\n",
      "7, 3.0321, 1.7668, 5.1861\n",
      "8, 3.0322, 1.8582, 5.2776\n",
      "9, 3.0322, 1.9154, 5.3348\n",
      "10, 3.0323, 1.9512, 5.3705\n",
      "11, 3.0323, 1.9735, 5.3929\n",
      "12, 3.0323, 1.9875, 5.4068\n",
      "13, 3.0323, 1.9962, 5.4156\n",
      "14, 3.0323, 2.0017, 5.4210\n",
      "15, 3.0323, 2.0051, 5.4244\n",
      "16, 3.0323, 2.0072, 5.4266\n",
      "17, 3.0323, 2.0085, 5.4279\n",
      "18, 3.0323, 2.0094, 5.4287\n",
      "19, 3.0323, 2.0099, 5.4292\n",
      "Converged!\n"
     ]
    }
   ],
   "source": [
    "print(\"Iteration results:\")\n",
    "print(\" k, x1, x2, x3\")\n",
    "for k in range(1,51):\n",
    "    x1=(14-3*x2+3*x3)/8.\n",
    "    x2=(5+2*x1-5*x3)/(-8.)\n",
    "    x3=(-8-3*x1-5*x2)/(-5)\n",
    "    #store the new results\n",
    "    x=np.array([x1,x2,x3])\n",
    "    dx=np.sqrt(np.dot(x-x_old,x-x_old))\n",
    "    print('%d, %.4f, %.4f, %.4f'%(k,x1,x2,x3))\n",
    "    if dx<epsilon:\n",
    "        converged=True\n",
    "        print(\"Converged!\")\n",
    "        break\n",
    "    x_old=x\n",
    "if not converged:\n",
    "    print(\"Not converged, increase the number of iteration\")"
   ]
  },
  {
   "cell_type": "code",
   "execution_count": null,
   "id": "7ba87050-359f-4111-bc60-11e0cbf33ba1",
   "metadata": {},
   "outputs": [],
   "source": []
  }
 ],
 "metadata": {
  "kernelspec": {
   "display_name": "Python 3 (ipykernel)",
   "language": "python",
   "name": "python3"
  },
  "language_info": {
   "codemirror_mode": {
    "name": "ipython",
    "version": 3
   },
   "file_extension": ".py",
   "mimetype": "text/x-python",
   "name": "python",
   "nbconvert_exporter": "python",
   "pygments_lexer": "ipython3",
   "version": "3.9.13"
  }
 },
 "nbformat": 4,
 "nbformat_minor": 5
}
