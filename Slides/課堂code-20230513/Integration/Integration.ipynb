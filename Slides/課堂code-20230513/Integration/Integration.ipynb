{
 "cells": [
  {
   "cell_type": "code",
   "execution_count": 1,
   "id": "2be27630-dc1c-44a9-852a-b2897b484773",
   "metadata": {},
   "outputs": [],
   "source": [
    "import numpy as np\n",
    "#define the upper and lower bound of integration\n",
    "a = 0\n",
    "b = np.pi\n",
    "#define the number of grids\n",
    "n = 11\n",
    "#define the integration step\n",
    "h = (b-a)/(n-1)\n",
    "#compute the coordinates of grids\n",
    "x = np.linspace(a,b,n)\n",
    "#compute the value of function\n",
    "y = np.sin(x)"
   ]
  },
  {
   "cell_type": "code",
   "execution_count": 18,
   "id": "1a34f430-2966-4769-89b8-d2ba82a75786",
   "metadata": {},
   "outputs": [
    {
     "name": "stdout",
     "output_type": "stream",
     "text": [
      "0.41140272912849607\n"
     ]
    }
   ],
   "source": [
    "I_riemann_L = sum(y[:n-1])*h\n",
    "error = abs(2-I_riemann_L)\n",
    "print(error*100)"
   ]
  },
  {
   "cell_type": "code",
   "execution_count": 22,
   "id": "624a2db2-3a7a-4ba2-8583-5516c0ea1074",
   "metadata": {},
   "outputs": [
    {
     "name": "stdout",
     "output_type": "stream",
     "text": [
      "0.01644961125564226\n"
     ]
    }
   ],
   "source": [
    "#Trapezoid rule of integration\n",
    "I_trap = h/2*(y[0] + 2*sum(y[1:n-1]) + y[n-1])\n",
    "error = abs(2-I_trap)\n",
    "print(error*100)"
   ]
  },
  {
   "cell_type": "code",
   "execution_count": 27,
   "id": "58a96601-682a-404b-af46-f6c1aac3d2c2",
   "metadata": {},
   "outputs": [
    {
     "name": "stdout",
     "output_type": "stream",
     "text": [
      "-0.010951731500430384\n"
     ]
    }
   ],
   "source": [
    "I_simp = h/3* ( y[0] +2*sum(y[:n-2:2])+4*sum(y[1:n-1:2])+y[n-1])\n",
    "error = 2 - I_simp\n",
    "print(error*100)"
   ]
  },
  {
   "cell_type": "code",
   "execution_count": null,
   "id": "96040a64-ef50-4b26-bc21-b52ee0ddf484",
   "metadata": {},
   "outputs": [],
   "source": []
  }
 ],
 "metadata": {
  "kernelspec": {
   "display_name": "Python 3 (ipykernel)",
   "language": "python",
   "name": "python3"
  },
  "language_info": {
   "codemirror_mode": {
    "name": "ipython",
    "version": 3
   },
   "file_extension": ".py",
   "mimetype": "text/x-python",
   "name": "python",
   "nbconvert_exporter": "python",
   "pygments_lexer": "ipython3",
   "version": "3.9.13"
  }
 },
 "nbformat": 4,
 "nbformat_minor": 5
}
