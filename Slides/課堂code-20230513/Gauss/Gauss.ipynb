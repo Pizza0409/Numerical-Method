{
 "cells": [
  {
   "cell_type": "code",
   "execution_count": 10,
   "id": "b03ed6a7-0c6e-4c70-978c-5e77bb1085a3",
   "metadata": {},
   "outputs": [],
   "source": [
    "import numpy as np\n",
    "\n",
    "def gauss_elimination(A, b):\n",
    "    \"\"\"Solves the system of linear equations Ax=b using Gauss elimination.\"\"\"\n",
    "    \n",
    "    n = len(A)\n",
    "    for i in range(n):\n",
    "        # Find the pivot row and swap it with the current row\n",
    "        pivot_row = i\n",
    "        for j in range(i+1, n):\n",
    "            if abs(A[j,i]) > abs(A[pivot_row,i]):\n",
    "                pivot_row = j\n",
    "        A[[i,pivot_row]] = A[[pivot_row,i]]\n",
    "        b[[i,pivot_row]] = b[[pivot_row,i]]\n",
    "        print(A)\n",
    "        print(b)\n",
    "        \n",
    "        # Eliminate the current column\n",
    "        for j in range(i+1, n):\n",
    "            factor = A[j,i] / A[i,i]\n",
    "            A[j,i:] = A[j,i:] - factor * A[i,i:]\n",
    "            b[j] = b[j] - factor * b[i]\n",
    "    \n",
    "    # Solve the upper triangular system using back substitution\n",
    "    x = np.zeros(n)\n",
    "    for i in range(n-1, -1, -1):\n",
    "        x[i] = (b[i] - np.dot(A[i,i+1:], x[i+1:])) / A[i,i]\n",
    "    \n",
    "    return x\n"
   ]
  },
  {
   "cell_type": "code",
   "execution_count": 25,
   "id": "8768398e-cea8-4fa1-81c1-84c65d97797f",
   "metadata": {},
   "outputs": [],
   "source": [
    "A = np.array([[1, 4, 3],\n",
    "              [4, 6, 7],\n",
    "              [4, 8, 9]])\n",
    "\n",
    "b = np.array([1, 2, 3])\n",
    "\n",
    "#x = gauss_elimination(A, b)\n",
    "\n",
    "#print(x)\n"
   ]
  },
  {
   "cell_type": "code",
   "execution_count": 18,
   "id": "0bebd633-b5c4-496f-8915-304cf6c6bda5",
   "metadata": {},
   "outputs": [
    {
     "data": {
      "text/plain": [
       "array([[1, 4, 3],\n",
       "       [4, 6, 7],\n",
       "       [4, 8, 9]])"
      ]
     },
     "execution_count": 18,
     "metadata": {},
     "output_type": "execute_result"
    }
   ],
   "source": [
    "A"
   ]
  },
  {
   "cell_type": "code",
   "execution_count": 19,
   "id": "1e7289ac-f70a-43a1-9ce6-f8cd9544a0a9",
   "metadata": {},
   "outputs": [
    {
     "data": {
      "text/plain": [
       "array([1, 2, 3])"
      ]
     },
     "execution_count": 19,
     "metadata": {},
     "output_type": "execute_result"
    }
   ],
   "source": [
    "b"
   ]
  },
  {
   "cell_type": "code",
   "execution_count": 20,
   "id": "aaed349f-ffba-40ca-a332-35b29678b8b0",
   "metadata": {},
   "outputs": [
    {
     "name": "stdout",
     "output_type": "stream",
     "text": [
      "[[4 6 7]\n",
      " [1 4 3]\n",
      " [4 8 9]]\n",
      "[2 1 3]\n",
      "[[4 6 7]\n",
      " [0 2 1]\n",
      " [0 2 2]]\n",
      "[2 0 1]\n",
      "[[4 6 7]\n",
      " [0 2 1]\n",
      " [0 0 1]]\n",
      "[2 0 1]\n"
     ]
    }
   ],
   "source": [
    "x = gauss_elimination(A, b)"
   ]
  },
  {
   "cell_type": "code",
   "execution_count": 22,
   "id": "cf7a18ec-ab8d-456b-a8f3-147d879518da",
   "metadata": {},
   "outputs": [
    {
     "name": "stdout",
     "output_type": "stream",
     "text": [
      "[-0.5 -0.5  1. ]\n"
     ]
    }
   ],
   "source": [
    "print(x)"
   ]
  },
  {
   "cell_type": "code",
   "execution_count": 30,
   "id": "b94f33c7-e230-4b95-9a79-8d3560ffe335",
   "metadata": {},
   "outputs": [
    {
     "name": "stdout",
     "output_type": "stream",
     "text": [
      "[-0.4 -0.1  0.6]\n"
     ]
    }
   ],
   "source": [
    "print(np.linalg.solve(A,b))"
   ]
  },
  {
   "cell_type": "code",
   "execution_count": null,
   "id": "3d6d204f-bace-4b68-b144-da8b19210ca4",
   "metadata": {},
   "outputs": [],
   "source": []
  }
 ],
 "metadata": {
  "kernelspec": {
   "display_name": "Python 3 (ipykernel)",
   "language": "python",
   "name": "python3"
  },
  "language_info": {
   "codemirror_mode": {
    "name": "ipython",
    "version": 3
   },
   "file_extension": ".py",
   "mimetype": "text/x-python",
   "name": "python",
   "nbconvert_exporter": "python",
   "pygments_lexer": "ipython3",
   "version": "3.9.13"
  }
 },
 "nbformat": 4,
 "nbformat_minor": 5
}
