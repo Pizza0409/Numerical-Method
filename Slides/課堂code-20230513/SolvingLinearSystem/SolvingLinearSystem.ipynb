{
 "cells": [
  {
   "cell_type": "code",
   "execution_count": 1,
   "id": "db07309a-56f8-4881-a1c7-8d64214dfca8",
   "metadata": {},
   "outputs": [],
   "source": [
    "import numpy as np"
   ]
  },
  {
   "cell_type": "code",
   "execution_count": 2,
   "id": "2914fb98-5e3e-47dd-b8b2-ccfc4744bf3c",
   "metadata": {},
   "outputs": [],
   "source": [
    "A=np.array([[4,3,-5],[-2,-4,5],[8,8,0]])"
   ]
  },
  {
   "cell_type": "code",
   "execution_count": 3,
   "id": "6f4ab3eb-ab69-40d7-84a8-d26e80733edf",
   "metadata": {},
   "outputs": [
    {
     "data": {
      "text/plain": [
       "array([[ 4,  3, -5],\n",
       "       [-2, -4,  5],\n",
       "       [ 8,  8,  0]])"
      ]
     },
     "execution_count": 3,
     "metadata": {},
     "output_type": "execute_result"
    }
   ],
   "source": [
    "A"
   ]
  },
  {
   "cell_type": "code",
   "execution_count": 4,
   "id": "a7f39121-c6c7-4cc0-8be9-a3b562cc4662",
   "metadata": {},
   "outputs": [],
   "source": [
    "b=np.array([2,5,-3])"
   ]
  },
  {
   "cell_type": "code",
   "execution_count": 5,
   "id": "fb5e7db6-26e1-4944-aeb8-bcd2089f1950",
   "metadata": {},
   "outputs": [
    {
     "name": "stdout",
     "output_type": "stream",
     "text": [
      "[ 2.20833333 -2.58333333 -0.18333333]\n"
     ]
    }
   ],
   "source": [
    "x=np.linalg.solve(A,b)\n",
    "print(x)"
   ]
  },
  {
   "cell_type": "code",
   "execution_count": 6,
   "id": "a47b372f-a34d-484d-92f1-6950c7a71e6f",
   "metadata": {},
   "outputs": [
    {
     "name": "stdout",
     "output_type": "stream",
     "text": [
      "[ 2.20833333 -2.58333333 -0.18333333]\n"
     ]
    }
   ],
   "source": [
    "A_inv=np.linalg.inv(A)\n",
    "x_new=np.dot(A_inv,b)\n",
    "print(x_new)"
   ]
  },
  {
   "cell_type": "code",
   "execution_count": null,
   "id": "d537656a-bfb1-4868-9ab4-e91f978c04e6",
   "metadata": {},
   "outputs": [],
   "source": []
  }
 ],
 "metadata": {
  "kernelspec": {
   "display_name": "Python 3 (ipykernel)",
   "language": "python",
   "name": "python3"
  },
  "language_info": {
   "codemirror_mode": {
    "name": "ipython",
    "version": 3
   },
   "file_extension": ".py",
   "mimetype": "text/x-python",
   "name": "python",
   "nbconvert_exporter": "python",
   "pygments_lexer": "ipython3",
   "version": "3.9.13"
  }
 },
 "nbformat": 4,
 "nbformat_minor": 5
}
