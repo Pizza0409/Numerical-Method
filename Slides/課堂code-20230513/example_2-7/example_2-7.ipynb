{
 "cells": [
  {
   "cell_type": "code",
   "execution_count": 2,
   "id": "0792e27d-b9d0-44e0-b660-42e486b1d52c",
   "metadata": {},
   "outputs": [],
   "source": [
    "import numpy as np\n",
    "from numpy.linalg import qr"
   ]
  },
  {
   "cell_type": "code",
   "execution_count": 3,
   "id": "152ed1f9-e9c2-4592-b755-15ae3592f3ab",
   "metadata": {},
   "outputs": [],
   "source": [
    "A = np. array([[0,2],[2,3]])"
   ]
  },
  {
   "cell_type": "code",
   "execution_count": 4,
   "id": "35480c6a-636a-43a6-ac0b-3abed7247b44",
   "metadata": {},
   "outputs": [],
   "source": [
    "Q,R = qr(A)"
   ]
  },
  {
   "cell_type": "code",
   "execution_count": 5,
   "id": "0f97dc48-93d8-4086-9790-f0772554e2b2",
   "metadata": {},
   "outputs": [
    {
     "name": "stdout",
     "output_type": "stream",
     "text": [
      "Q : [[ 0. -1.]\n",
      " [-1.  0.]]\n",
      "R : [[-2. -3.]\n",
      " [ 0. -2.]]\n"
     ]
    }
   ],
   "source": [
    "print(\"Q :\",Q)\n",
    "print(\"R :\",R)"
   ]
  },
  {
   "cell_type": "code",
   "execution_count": 6,
   "id": "e49aa0ca-b9cf-4349-b240-7ec7c8e8b424",
   "metadata": {},
   "outputs": [
    {
     "name": "stdout",
     "output_type": "stream",
     "text": [
      "QR : [[0. 2.]\n",
      " [2. 3.]]\n"
     ]
    }
   ],
   "source": [
    "print(\"QR :\",np.dot(Q,R))"
   ]
  },
  {
   "cell_type": "code",
   "execution_count": null,
   "id": "5bd77328-1192-4f77-8d43-1fbf32704e71",
   "metadata": {},
   "outputs": [],
   "source": []
  }
 ],
 "metadata": {
  "kernelspec": {
   "display_name": "Python 3 (ipykernel)",
   "language": "python",
   "name": "python3"
  },
  "language_info": {
   "codemirror_mode": {
    "name": "ipython",
    "version": 3
   },
   "file_extension": ".py",
   "mimetype": "text/x-python",
   "name": "python",
   "nbconvert_exporter": "python",
   "pygments_lexer": "ipython3",
   "version": "3.9.13"
  }
 },
 "nbformat": 4,
 "nbformat_minor": 5
}
