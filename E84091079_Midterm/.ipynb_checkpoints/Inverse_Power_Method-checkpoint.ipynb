{
 "cells": [
  {
   "cell_type": "code",
   "execution_count": 6,
   "id": "ad05dc63",
   "metadata": {},
   "outputs": [],
   "source": [
    "import numpy as np\n",
    "from numpy.linalg import inv"
   ]
  },
  {
   "cell_type": "code",
   "execution_count": 7,
   "id": "79d5132c",
   "metadata": {},
   "outputs": [],
   "source": [
    "def normalize(x):\n",
    "    fac = abs(x).max()\n",
    "    # check if the abs max in x is negative\n",
    "    if fac == abs(x.min()):\n",
    "        fac *= -1\n",
    "    \n",
    "    x_n = x / fac\n",
    "\n",
    "    return fac, x_n"
   ]
  },
  {
   "cell_type": "code",
   "execution_count": 8,
   "id": "10448da8",
   "metadata": {},
   "outputs": [],
   "source": [
    "def Inverse_Power_Method(a, x):\n",
    "    lambda_0 = 1\n",
    "    #inverse a\n",
    "    a_inv = inv(a)\n",
    "    iter = 1000\n",
    "\n",
    "    for i in range(iter):\n",
    "        x = np.dot(a_inv, x)\n",
    "        lambda_1, x = normalize(x)\n",
    "        if abs(lambda_0 - lambda_1) < 10 ** (-30):\n",
    "            break\n",
    "    return lambda_1, x\n",
    "\n"
   ]
  },
  {
   "cell_type": "code",
   "execution_count": 9,
   "id": "25f3996a",
   "metadata": {},
   "outputs": [
    {
     "name": "stdout",
     "output_type": "stream",
     "text": [
      "The Minimum Eigenvalue: -0.3502617411332921\n",
      "Eigenvector: [ 1.         -0.16957999 -0.42076089]\n"
     ]
    }
   ],
   "source": [
    "x = np.array([1, 1, 1])\n",
    "a = np.array([[1, 3, 2],[2, 4, 3],[2, 1, 4]])\n",
    "Eigenvalue, Eigenvector = Inverse_Power_Method(a, x)\n",
    "print(\"The Minimum Eigenvalue:\", 1/Eigenvalue)\n",
    "print(\"Eigenvector:\", Eigenvector)"
   ]
  },
  {
   "cell_type": "code",
   "execution_count": null,
   "id": "2fbe3691",
   "metadata": {},
   "outputs": [],
   "source": []
  },
  {
   "cell_type": "code",
   "execution_count": null,
   "id": "9ea23bdd",
   "metadata": {},
   "outputs": [],
   "source": []
  }
 ],
 "metadata": {
  "kernelspec": {
   "display_name": "Python 3 (ipykernel)",
   "language": "python",
   "name": "python3"
  },
  "language_info": {
   "codemirror_mode": {
    "name": "ipython",
    "version": 3
   },
   "file_extension": ".py",
   "mimetype": "text/x-python",
   "name": "python",
   "nbconvert_exporter": "python",
   "pygments_lexer": "ipython3",
   "version": "3.9.13"
  }
 },
 "nbformat": 4,
 "nbformat_minor": 5
}
