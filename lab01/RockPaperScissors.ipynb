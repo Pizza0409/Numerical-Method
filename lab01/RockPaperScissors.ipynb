{
 "cells": [
  {
   "cell_type": "code",
   "execution_count": 1,
   "id": "1549d4b4",
   "metadata": {},
   "outputs": [],
   "source": [
    "import random"
   ]
  },
  {
   "cell_type": "code",
   "execution_count": 2,
   "id": "958b8584",
   "metadata": {},
   "outputs": [],
   "source": [
    "cmp = random.randint(1, 3)"
   ]
  },
  {
   "cell_type": "code",
   "execution_count": 3,
   "id": "bfb66e40",
   "metadata": {},
   "outputs": [],
   "source": [
    "if(cmp == 1):\n",
    "    cmp = 'r'\n",
    "elif(cmp == 2):\n",
    "    cmp = 'p'\n",
    "else:\n",
    "    cmp = 's'"
   ]
  },
  {
   "cell_type": "code",
   "execution_count": 4,
   "id": "9bb936f0",
   "metadata": {},
   "outputs": [],
   "source": [
    "l = 0\n",
    "w = 0\n",
    "t = 0"
   ]
  },
  {
   "cell_type": "code",
   "execution_count": 5,
   "id": "65e291b5",
   "metadata": {},
   "outputs": [
    {
     "name": "stdout",
     "output_type": "stream",
     "text": [
      "Welocome to ROCK, PAPER, SCISSORS game!\n"
     ]
    }
   ],
   "source": [
    "print('Welocome to ROCK, PAPER, SCISSORS game!')\n"
   ]
  },
  {
   "cell_type": "code",
   "execution_count": 6,
   "id": "e52f6025",
   "metadata": {},
   "outputs": [
    {
     "name": "stdout",
     "output_type": "stream",
     "text": [
      "Enter your move: (r)ock (p)aper (s)cissorsr\n",
      "It is a tie!\n",
      "You have  1  ties and  0 losses\n",
      "Enter your move: (r)ock (p)aper (s)cissorss\n",
      "You lose!\n",
      "You have  1  ties and  1 losses\n",
      "Enter your move: (r)ock (p)aper (s)cissorsr\n",
      "It is a tie!\n",
      "You have  2  ties and  1 losses\n",
      "Enter your move: (r)ock (p)aper (s)cissorst\n",
      "You have  2  ties and  1 losses\n",
      "Enter your move: (r)ock (p)aper (s)cissorsp\n",
      "You Win!\n"
     ]
    }
   ],
   "source": [
    "while True:\n",
    "    player = input('Enter your move: (r)ock (p)aper (s)cissors')\n",
    "    if(player == cmp):\n",
    "        print('It is a tie!')\n",
    "        t += 1\n",
    "    elif(player == 'r'):\n",
    "        if(cmp == 'p'):\n",
    "            print('You lose!')\n",
    "            l += 1\n",
    "        else:\n",
    "            print('You Win!')\n",
    "            w += 1\n",
    "    elif(player == 'p'):\n",
    "        if(cmp == 's'):\n",
    "            print('You lose!')\n",
    "            l += 1\n",
    "        else:\n",
    "            print('You Win!')\n",
    "            w += 1\n",
    "    elif(player == 's'):\n",
    "        if(cmp == 'r'):\n",
    "            print('You lose!')\n",
    "            l += 1\n",
    "        else:\n",
    "            print('You Win!') \n",
    "            w += 1\n",
    "    \n",
    "    if(w == 1):\n",
    "        break\n",
    "    else:    \n",
    "        print('You have ', t,' ties and ' , l, 'losses' )\n",
    "    "
   ]
  },
  {
   "cell_type": "code",
   "execution_count": null,
   "id": "9cb84dab",
   "metadata": {},
   "outputs": [],
   "source": []
  },
  {
   "cell_type": "code",
   "execution_count": null,
   "id": "ea0e796d",
   "metadata": {},
   "outputs": [],
   "source": []
  },
  {
   "cell_type": "code",
   "execution_count": null,
   "id": "afd9ed09",
   "metadata": {},
   "outputs": [],
   "source": []
  }
 ],
 "metadata": {
  "kernelspec": {
   "display_name": "Python 3 (ipykernel)",
   "language": "python",
   "name": "python3"
  },
  "language_info": {
   "codemirror_mode": {
    "name": "ipython",
    "version": 3
   },
   "file_extension": ".py",
   "mimetype": "text/x-python",
   "name": "python",
   "nbconvert_exporter": "python",
   "pygments_lexer": "ipython3",
   "version": "3.9.13"
  }
 },
 "nbformat": 4,
 "nbformat_minor": 5
}
