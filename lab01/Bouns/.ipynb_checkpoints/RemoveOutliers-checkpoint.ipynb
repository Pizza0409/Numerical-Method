{
 "cells": [
  {
   "cell_type": "code",
   "execution_count": 25,
   "id": "321313fe",
   "metadata": {},
   "outputs": [
    {
     "name": "stdout",
     "output_type": "stream",
     "text": [
      "Enter the number of the largest and smallest to remove 1\n"
     ]
    }
   ],
   "source": [
    "move = int(input('Enter the number of the largest and smallest to remove '))"
   ]
  },
  {
   "cell_type": "code",
   "execution_count": 26,
   "id": "70a68478",
   "metadata": {},
   "outputs": [],
   "source": [
    "x = list()"
   ]
  },
  {
   "cell_type": "code",
   "execution_count": 27,
   "id": "69c6d972",
   "metadata": {},
   "outputs": [
    {
     "name": "stdout",
     "output_type": "stream",
     "text": [
      "Enter the value : 34\n",
      "Enter the value : 56\n",
      "Enter the value : 7\n",
      "Enter the value : 8\n",
      "Enter the value : 9\n",
      "Enter the value : 9435\n",
      "Enter the value : 34\n",
      "Enter the value : -100\n",
      "Enter the value : q\n"
     ]
    }
   ],
   "source": [
    "while True:\n",
    "    val = input('Enter the value : ')\n",
    "    \n",
    "    if(val == 'q' or val == 'Q'):\n",
    "        break\n",
    "        \n",
    "    x.append(val)"
   ]
  },
  {
   "cell_type": "code",
   "execution_count": 28,
   "id": "a6255176",
   "metadata": {},
   "outputs": [
    {
     "name": "stdout",
     "output_type": "stream",
     "text": [
      "The original list is  [34, 56, 7, 8, 9, 9435, 34, -100]\n"
     ]
    }
   ],
   "source": [
    "for i in range(0, len(x)):\n",
    "    x[i] = int(x[i])\n",
    "print('The original list is ', x)"
   ]
  },
  {
   "cell_type": "code",
   "execution_count": 29,
   "id": "907c0ca6",
   "metadata": {},
   "outputs": [],
   "source": [
    "# bubble sort\n",
    "l = len(x)\n",
    "for i in range(l - 1):\n",
    "    for j in range(l - i -1):\n",
    "        if(x[j] > x[j + 1]):\n",
    "            temp = x[j + 1]\n",
    "            x[j + 1] = x[j]\n",
    "            x[j] = temp\n",
    "            \n",
    "y = x\n",
    "\n",
    "temp = -move\n",
    "\n",
    "item = list()\n",
    "for i in range(0, move):\n",
    "    item.append(y[i])\n",
    "\n",
    "a = -1    \n",
    "\n",
    "while(-1 >= temp):\n",
    "\n",
    "    item.append(y[a])\n",
    "    a -= 1\n",
    "    temp += 1"
   ]
  },
  {
   "cell_type": "code",
   "execution_count": 31,
   "id": "312f19cf",
   "metadata": {},
   "outputs": [
    {
     "name": "stdout",
     "output_type": "stream",
     "text": [
      "The data with the outliers removed :  [7, 8, 9, 34, 34, 56]\n"
     ]
    }
   ],
   "source": [
    "del x[0:move]\n",
    "\n",
    "temp = -move\n",
    "\n",
    "while(-1 >= temp):\n",
    "    del x[-1]\n",
    "    temp += 1\n",
    "\n",
    "print('The data with the outliers removed : ', x)"
   ]
  },
  {
   "cell_type": "markdown",
   "id": "9dfcbccc",
   "metadata": {},
   "source": []
  },
  {
   "cell_type": "code",
   "execution_count": 32,
   "id": "6edb2f37",
   "metadata": {},
   "outputs": [
    {
     "name": "stdout",
     "output_type": "stream",
     "text": [
      "The outliers :  [-100, 9435]\n"
     ]
    }
   ],
   "source": [
    "print('The outliers : ', item)"
   ]
  },
  {
   "cell_type": "code",
   "execution_count": null,
   "id": "6046bc4d",
   "metadata": {},
   "outputs": [],
   "source": []
  },
  {
   "cell_type": "code",
   "execution_count": null,
   "id": "2ae129a9",
   "metadata": {},
   "outputs": [],
   "source": []
  }
 ],
 "metadata": {
  "kernelspec": {
   "display_name": "Python 3 (ipykernel)",
   "language": "python",
   "name": "python3"
  },
  "language_info": {
   "codemirror_mode": {
    "name": "ipython",
    "version": 3
   },
   "file_extension": ".py",
   "mimetype": "text/x-python",
   "name": "python",
   "nbconvert_exporter": "python",
   "pygments_lexer": "ipython3",
   "version": "3.9.13"
  }
 },
 "nbformat": 4,
 "nbformat_minor": 5
}
