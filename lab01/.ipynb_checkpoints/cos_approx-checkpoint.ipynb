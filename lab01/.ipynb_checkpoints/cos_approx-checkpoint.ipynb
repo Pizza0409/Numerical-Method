{
 "cells": [
  {
   "cell_type": "code",
   "execution_count": 1,
   "id": "e09a5538",
   "metadata": {},
   "outputs": [],
   "source": [
    "import math"
   ]
  },
  {
   "cell_type": "code",
   "execution_count": 2,
   "id": "2bfdabc9",
   "metadata": {},
   "outputs": [
    {
     "name": "stdout",
     "output_type": "stream",
     "text": [
      "Please input x 2.3\n"
     ]
    }
   ],
   "source": [
    "x = float(input('Please input x '))"
   ]
  },
  {
   "cell_type": "code",
   "execution_count": 3,
   "id": "33fd338b",
   "metadata": {
    "scrolled": true
   },
   "outputs": [
    {
     "name": "stdout",
     "output_type": "stream",
     "text": [
      "-0.6662760212798241\n"
     ]
    }
   ],
   "source": [
    "N = 2\n",
    "cos = 1\n",
    "sign = 1\n",
    "while(N <= 24):\n",
    "    sign = -sign\n",
    "    cos += sign * x**N / math.factorial(N)\n",
    "    N += 2\n",
    "\n",
    "print(cos)"
   ]
  },
  {
   "cell_type": "code",
   "execution_count": null,
   "id": "7d4ec6d7",
   "metadata": {},
   "outputs": [],
   "source": []
  }
 ],
 "metadata": {
  "kernelspec": {
   "display_name": "Python 3 (ipykernel)",
   "language": "python",
   "name": "python3"
  },
  "language_info": {
   "codemirror_mode": {
    "name": "ipython",
    "version": 3
   },
   "file_extension": ".py",
   "mimetype": "text/x-python",
   "name": "python",
   "nbconvert_exporter": "python",
   "pygments_lexer": "ipython3",
   "version": "3.9.13"
  }
 },
 "nbformat": 4,
 "nbformat_minor": 5
}
