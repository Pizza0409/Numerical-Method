{
 "cells": [
  {
   "cell_type": "code",
   "execution_count": 6,
   "id": "781836d5",
   "metadata": {},
   "outputs": [],
   "source": [
    "import numpy as np"
   ]
  },
  {
   "cell_type": "code",
   "execution_count": 9,
   "id": "15e2f4b7",
   "metadata": {},
   "outputs": [],
   "source": [
    "# normalize the resulting vector\n",
    "def normalize(x):\n",
    "    fac = abs(x).max()\n",
    "    # check if abs in x is nagetive or not\n",
    "    if fac == abs(x.min()):\n",
    "        fac *= -1\n",
    "    x_n = x / x.max()\n",
    "    return fac, x_n\n",
    "\n",
    "def Power_Method(a, x):\n",
    "    lamba_0 = 1\n",
    "    iter = 100\n",
    "    y = 0\n",
    "    \n",
    "    for i in range(iter):\n",
    "        x = np.dot(a, x)\n",
    "        # normalize the resulting vector in each iteration\n",
    "        lambda_1, x = normalize(x)\n",
    "    return lambda_1, x"
   ]
  },
  {
   "cell_type": "code",
   "execution_count": 10,
   "id": "a991eeaa",
   "metadata": {},
   "outputs": [
    {
     "name": "stdout",
     "output_type": "stream",
     "text": [
      "Eigenvalue: 3.8541019662495652\n",
      "Eigenvector: [1.         0.61803399]\n"
     ]
    }
   ],
   "source": [
    "x = np.array([1, 1])\n",
    "a = np.array([[2, 3],[3, -1]])\n",
    "Eigenvalue, Eigenvector = Power_Method(a, x)\n",
    "print(\"Eigenvalue:\", Eigenvalue)\n",
    "print(\"Eigenvector:\", Eigenvector)"
   ]
  },
  {
   "cell_type": "code",
   "execution_count": null,
   "id": "8c3271a0",
   "metadata": {},
   "outputs": [],
   "source": []
  },
  {
   "cell_type": "code",
   "execution_count": null,
   "id": "2006068f",
   "metadata": {},
   "outputs": [],
   "source": []
  }
 ],
 "metadata": {
  "kernelspec": {
   "display_name": "Python 3 (ipykernel)",
   "language": "python",
   "name": "python3"
  },
  "language_info": {
   "codemirror_mode": {
    "name": "ipython",
    "version": 3
   },
   "file_extension": ".py",
   "mimetype": "text/x-python",
   "name": "python",
   "nbconvert_exporter": "python",
   "pygments_lexer": "ipython3",
   "version": "3.9.13"
  }
 },
 "nbformat": 4,
 "nbformat_minor": 5
}
