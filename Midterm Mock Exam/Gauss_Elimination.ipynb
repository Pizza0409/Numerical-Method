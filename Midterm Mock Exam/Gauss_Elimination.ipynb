{
 "cells": [
  {
   "cell_type": "code",
   "execution_count": 10,
   "id": "592293b3",
   "metadata": {},
   "outputs": [],
   "source": [
    "import numpy as np\n",
    "from numpy.linalg import cond, matrix_rank"
   ]
  },
  {
   "cell_type": "code",
   "execution_count": 13,
   "id": "3b6f399d",
   "metadata": {},
   "outputs": [],
   "source": [
    "def Gauss_Elimination(a, y):\n",
    "    if(a.shape[0] != a.shape[1]):\n",
    "        print(\"Error\\n\")\n",
    "    \n",
    "    if(a.shape[0] != y.shape[0] or y.shape[1] > 1):\n",
    "        print(\"Error\\n\")\n",
    "    \n",
    "    n = len(y)\n",
    "    i = 0\n",
    "    j = i - 1\n",
    "    x = np.zeros(n)\n",
    "    \n",
    "    augmented_matrix = np.concatenate((a, y), axis = 1, dtype = float)\n",
    "    print(f\"Initial matrix : \\n{augmented_matrix}\\n\")\n",
    "    \n",
    "    while i < n:\n",
    "        # check it won't divide by zero\n",
    "        if(augmented_matrix[i][i] == 0):\n",
    "            #swap\n",
    "            for k in range(1, len(augmented_matrix)):\n",
    "                if augmented_matrix[k][i] != 0:\n",
    "                    augmented_matrix[[i, k]] = augmented_matrix[[k, i]]    \n",
    "        for j in range(i + 1, n):\n",
    "            fac = augmented_matrix[j][i] / augmented_matrix[i][i]\n",
    "            augmented_matrix[j] -= fac * augmented_matrix[i] \n",
    "            print(f\"The new augmented matrix : \\n{augmented_matrix}\")\n",
    "        i = i + 1\n",
    "    \n",
    "    # back substitution\n",
    "    x[n - 1] = augmented_matrix[n - 1][n] / augmented_matrix[n - 1][n - 1]\n",
    "    \n",
    "    for k in range(n - 2, -1, -1):\n",
    "        x[k] = augmented_matrix[k][n]\n",
    "        for j in range(k + 1, n):\n",
    "                x[k] = x[k] - augmented_matrix[k][j] * x[j]\n",
    "        x[k] = x[k] / augmented_matrix[k][k]\n",
    "            \n",
    "    print(f\"x: {x}\")\n",
    "    "
   ]
  },
  {
   "cell_type": "code",
   "execution_count": 14,
   "id": "5e922653",
   "metadata": {},
   "outputs": [
    {
     "name": "stdout",
     "output_type": "stream",
     "text": [
      "Initial matrix : \n",
      "[[ 0. -2.  6.  7.]\n",
      " [12.  4. -7.  5.]\n",
      " [ 0.  4.  1.  3.]]\n",
      "\n",
      "The new augmented matrix : \n",
      "[[12.  4. -7.  5.]\n",
      " [ 0. -2.  6.  7.]\n",
      " [ 0.  4.  1.  3.]]\n",
      "The new augmented matrix : \n",
      "[[12.  4. -7.  5.]\n",
      " [ 0. -2.  6.  7.]\n",
      " [ 0.  4.  1.  3.]]\n",
      "The new augmented matrix : \n",
      "[[12.  4. -7.  5.]\n",
      " [ 0. -2.  6.  7.]\n",
      " [ 0.  0. 13. 17.]]\n",
      "x: [1.03846154 0.42307692 1.30769231]\n"
     ]
    }
   ],
   "source": [
    "a = np.array([[0,-2,6],[12,4,-7],[0,4,1]]).astype('float')\n",
    "y = np.array([[7],[5],[3]]).astype('float')\n",
    "x = Gauss_Elimination(a, y)"
   ]
  },
  {
   "cell_type": "code",
   "execution_count": null,
   "id": "d48b7aa1",
   "metadata": {},
   "outputs": [],
   "source": []
  }
 ],
 "metadata": {
  "kernelspec": {
   "display_name": "Python 3 (ipykernel)",
   "language": "python",
   "name": "python3"
  },
  "language_info": {
   "codemirror_mode": {
    "name": "ipython",
    "version": 3
   },
   "file_extension": ".py",
   "mimetype": "text/x-python",
   "name": "python",
   "nbconvert_exporter": "python",
   "pygments_lexer": "ipython3",
   "version": "3.9.13"
  }
 },
 "nbformat": 4,
 "nbformat_minor": 5
}
