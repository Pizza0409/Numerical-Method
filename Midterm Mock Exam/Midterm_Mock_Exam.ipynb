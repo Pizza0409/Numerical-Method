{
 "cells": [
  {
   "cell_type": "code",
   "execution_count": 6,
   "id": "db73ffd7",
   "metadata": {},
   "outputs": [
    {
     "name": "stdout",
     "output_type": "stream",
     "text": [
      "<class 'list'>\n"
     ]
    }
   ],
   "source": [
    "import numpy as np\n",
    "a = [1, 3, 5 ,7]\n",
    "print(type(a))"
   ]
  },
  {
   "cell_type": "code",
   "execution_count": 7,
   "id": "c9dd67a4",
   "metadata": {},
   "outputs": [
    {
     "data": {
      "text/plain": [
       "dtype('int32')"
      ]
     },
     "execution_count": 7,
     "metadata": {},
     "output_type": "execute_result"
    }
   ],
   "source": [
    "b = np.array([1, 3, 5 ,7])\n",
    "type(b)\n",
    "b.dtype"
   ]
  },
  {
   "cell_type": "code",
   "execution_count": 8,
   "id": "85acca15",
   "metadata": {},
   "outputs": [
    {
     "name": "stdout",
     "output_type": "stream",
     "text": [
      "7\n",
      "[0.71428571 0.85714286 1.        ]\n",
      "5.857142857142857\n",
      "[0.73170732 0.90243902 1.        ]\n",
      "6.073170731707317\n",
      "[0.7188755  0.89558233 1.        ]\n",
      "Eigenvalue: 6.073170731707317\n",
      "Eigenvector: [0.7188755  0.89558233 1.        ]\n"
     ]
    }
   ],
   "source": [
    "def normalize(x):\n",
    "    fac = abs(x).max()\n",
    "    x_n = x / x.max()\n",
    "    return fac, x_n\n",
    "\n",
    "x = np.array([1, 1, 1])\n",
    "a = np.array([[2, 1, 2], [1, 3, 2], [2, 4, 1]])\n",
    "for i in range(3):\n",
    "    x = np.dot(a, x)\n",
    "    lambda_1, x = normalize(x)\n",
    "    print(lambda_1)\n",
    "    print(x)\n",
    "    \n",
    "    \n",
    "print('Eigenvalue:', lambda_1)\n",
    "print('Eigenvector:', x)"
   ]
  },
  {
   "cell_type": "code",
   "execution_count": null,
   "id": "61a6a87d",
   "metadata": {},
   "outputs": [],
   "source": []
  }
 ],
 "metadata": {
  "kernelspec": {
   "display_name": "Python 3 (ipykernel)",
   "language": "python",
   "name": "python3"
  },
  "language_info": {
   "codemirror_mode": {
    "name": "ipython",
    "version": 3
   },
   "file_extension": ".py",
   "mimetype": "text/x-python",
   "name": "python",
   "nbconvert_exporter": "python",
   "pygments_lexer": "ipython3",
   "version": "3.10.2"
  }
 },
 "nbformat": 4,
 "nbformat_minor": 5
}
