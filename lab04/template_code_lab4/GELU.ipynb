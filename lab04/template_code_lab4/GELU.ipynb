{
 "cells": [
  {
   "cell_type": "markdown",
   "id": "1785d7e9-b7b3-4cb8-b067-240769999d6d",
   "metadata": {},
   "source": [
    "### import the module you need first"
   ]
  },
  {
   "cell_type": "code",
   "execution_count": 2,
   "id": "313fb391-79e9-4b50-88b6-8f48c9d46df0",
   "metadata": {},
   "outputs": [],
   "source": [
    "import numpy as np"
   ]
  },
  {
   "cell_type": "markdown",
   "id": "db73bf73-205d-4f1d-86c7-b4c6983b3caf",
   "metadata": {},
   "source": [
    "## step1. \n",
    "#### Construct a numpy array represent the equations.\n",
    "#### the coefficients,answers and augmented matrix of each equation need to be stored separately."
   ]
  },
  {
   "cell_type": "code",
   "execution_count": 6,
   "id": "ad87b898-ac34-489a-b03c-17bf873adc7a",
   "metadata": {},
   "outputs": [
    {
     "name": "stdout",
     "output_type": "stream",
     "text": [
      "5y  -7z = [7]  |  [ 0  5 -7  7]\n",
      "4x  -1z = [8]  |  [ 4  0 -1  8]\n",
      "1x  -1y  -1z = [9]  |  [ 1 -1 -1  9]\n"
     ]
    }
   ],
   "source": [
    "from numpy.linalg import cond, matrix_rank\n",
    "\"\"\"\n",
    "example:\n",
    " \n",
    "5y-7z = 7        | 0 5 -7 7 |\n",
    "4x-z = 8      -> | 4 0 -1 8 |\n",
    "x-y+z = 9        | 1 -1 -1 9 |\n",
    "\"\"\"\n",
    "\n",
    "coe = np.array([[0, 5, -7], [4, 0, -1], [1, -1, -1]])          #係數\n",
    "ans = np.array([[7], [8], [9]])                                #答案\n",
    "\n",
    "augmented_matrix = np.concatenate((coe, ans), axis = 1) #增廣矩陣，且有可能是float\n",
    "\n",
    "for i, row in enumerate(augmented_matrix):                    #列出矩陣\n",
    "    equation = \"  \".join([f\"{coe[i][j]}{var}\" for j, var in enumerate([\"x\", \"y\", \"z\"]) if coe[i][j] != 0])\n",
    "    print(f\"{equation} = {ans[i]}  |  {row}\")"
   ]
  },
  {
   "cell_type": "markdown",
   "id": "997cb39d-1f1c-4a0a-bb0a-337998aa9bee",
   "metadata": {},
   "source": [
    "## step2. \n",
    "### Before doing gauss elimination,\n",
    "### we need to check if the first element([0,0]) of the augmented matrix is zero or not.\n",
    "### If the first element is zero,\n",
    "### we need to find another row whose first element isn't zero,and change them."
   ]
  },
  {
   "cell_type": "code",
   "execution_count": null,
   "id": "dd3f26c2-8e80-4fc7-9275-fdc3757f28a5",
   "metadata": {},
   "outputs": [],
   "source": []
  },
  {
   "cell_type": "code",
   "execution_count": 19,
   "id": "c17a6dd0-6de4-4ec7-98c7-6c8108fa2637",
   "metadata": {},
   "outputs": [
    {
     "name": "stdout",
     "output_type": "stream",
     "text": [
      "The new augmented matrix:\n",
      "[ 4.  0. -1.  8.]\n",
      "[ 0.  5. -7.  7.]\n",
      "[ 1. -1. -1.  9.]\n"
     ]
    }
   ],
   "source": [
    "#test:step2\n",
    "#print the new augment matrix\n",
    "\n",
    "if augmented_matrix[0][0] == 0:                  # check if the first element([0,0]) of the augmented matrix is zero or not.\n",
    "\n",
    "print(\"The new augmented matrix:\")\n",
    "for i in augmented_matrix:\n",
    "    print(i)"
   ]
  },
  {
   "cell_type": "markdown",
   "id": "779517a5-46f4-4d1c-9b12-31d7bdafe95c",
   "metadata": {},
   "source": [
    "## step3. gauss elimination\n",
    "\n",
    "#### print the matrix after  gauss elimination"
   ]
  },
  {
   "cell_type": "code",
   "execution_count": null,
   "id": "494bc074-c8f1-442c-a893-4aeecaaea4b9",
   "metadata": {},
   "outputs": [],
   "source": [
    "        "
   ]
  },
  {
   "cell_type": "code",
   "execution_count": 20,
   "id": "b7b93b27-512b-460a-b3e8-243b1037a772",
   "metadata": {},
   "outputs": [
    {
     "name": "stdout",
     "output_type": "stream",
     "text": [
      "[[ 4.    0.   -1.    8.  ]\n",
      " [ 0.    5.   -7.    7.  ]\n",
      " [ 0.    0.   -2.15  8.4 ]]\n"
     ]
    }
   ],
   "source": [
    "nrows, ncols = augmented_matrix.shape\n",
    "\n",
    "for i in range(nrows):\n",
    "    pivot = augmented_matrix[i][i]                           #即將要被消除=0的主對角線的數\n",
    "    for j in range(i+1, nrows):\n",
    "        factor = augmented_matrix[j][i] / pivot              #找出它跟前幾列的factor  \n",
    "        augmented_matrix[j] -= factor * augmented_matrix[i]  \n",
    "        \n",
    "\n",
    "print(augmented_matrix)\n"
   ]
  },
  {
   "cell_type": "markdown",
   "id": "ba7b24d1-c4de-4011-bb69-36e62982facd",
   "metadata": {},
   "source": [
    "## step4. LU decomposition(bonus)\n",
    "\n",
    "## if you don't want to submit bouns,you don't need to do  step4 and step5"
   ]
  },
  {
   "cell_type": "code",
   "execution_count": null,
   "id": "bfd7787a-d232-4211-b394-9f3e453236cd",
   "metadata": {},
   "outputs": [],
   "source": []
  },
  {
   "cell_type": "code",
   "execution_count": 21,
   "id": "6a08b2d3-ea8d-487b-b56d-6cccfc0e8283",
   "metadata": {},
   "outputs": [
    {
     "name": "stdout",
     "output_type": "stream",
     "text": [
      "[[ 1.    0.    0.  ]\n",
      " [ 0.    1.    0.  ]\n",
      " [ 0.25 -0.2   1.  ]]\n",
      "[[ 4.    0.   -1.  ]\n",
      " [ 0.    5.   -7.  ]\n",
      " [ 0.    0.   -2.15]]\n"
     ]
    }
   ],
   "source": [
    "#print L and U\n",
    "\n",
    "n = coe.shape[0]      #n = how many rows\n",
    "L = np.zeros((n, n))\n",
    "U = np.zeros((n, n))\n",
    "P = np.eye(n)\n",
    "\n",
    "for i in range(n):\n",
    "    pivot_row = i + np.argmax(np.abs(coe[i:, i])) #Find pivot\n",
    "    coe[[i, pivot_row]] = coe[[pivot_row, i]]     #Swap rows\n",
    "    L[[i, pivot_row]] = L[[pivot_row, i]]\n",
    "    P[[i, pivot_row]] = P[[pivot_row, i]]\n",
    "    L[i][i] = 1                                   #diagonal elements = 1 in L\n",
    "    for j in range(i, n):                         #Doolittle Algorithm\n",
    "        U[i][j] = coe[i][j] - sum(L[i][k] * U[k][j] for k in range(i))\n",
    "    for j in range(i+1, n):\n",
    "        L[j][i] = (coe[j][i] - sum(L[j][k] * U[k][i] for k in range(i))) / U[i][i]\n",
    "        \n",
    "print(L)\n",
    "print(U)"
   ]
  },
  {
   "cell_type": "markdown",
   "id": "d8296438-bc7c-4eb5-b53f-d688ef7b9101",
   "metadata": {},
   "source": [
    "## step5. check the ansewer of LU(bonus)\n",
    "\n",
    "please use the function in scipy.linalg to check your answer\n",
    "\n",
    "the documentatin of scipy.linalg :\n",
    "https://docs.scipy.org/doc/scipy/reference/linalg.html"
   ]
  },
  {
   "cell_type": "code",
   "execution_count": 22,
   "id": "f4ea710a-bab4-4071-a397-a6db0e8bb3b9",
   "metadata": {},
   "outputs": [],
   "source": [
    "import scipy.linalg as la"
   ]
  },
  {
   "cell_type": "code",
   "execution_count": 23,
   "id": "d8071834-e0d6-4fc4-a878-6822d5facce7",
   "metadata": {},
   "outputs": [
    {
     "name": "stdout",
     "output_type": "stream",
     "text": [
      "[[ 1.    0.    0.  ]\n",
      " [ 0.    1.    0.  ]\n",
      " [ 0.25 -0.2   1.  ]]\n",
      "[[ 4.    0.   -1.  ]\n",
      " [ 0.    5.   -7.  ]\n",
      " [ 0.    0.   -2.15]]\n"
     ]
    }
   ],
   "source": [
    "P, L, U = la.lu(coe)\n",
    "print(L)\n",
    "print(U)"
   ]
  },
  {
   "cell_type": "code",
   "execution_count": null,
   "id": "e4410d2e",
   "metadata": {},
   "outputs": [],
   "source": []
  }
 ],
 "metadata": {
  "kernelspec": {
   "display_name": "Python 3 (ipykernel)",
   "language": "python",
   "name": "python3"
  },
  "language_info": {
   "codemirror_mode": {
    "name": "ipython",
    "version": 3
   },
   "file_extension": ".py",
   "mimetype": "text/x-python",
   "name": "python",
   "nbconvert_exporter": "python",
   "pygments_lexer": "ipython3",
   "version": "3.9.13"
  }
 },
 "nbformat": 4,
 "nbformat_minor": 5
}
